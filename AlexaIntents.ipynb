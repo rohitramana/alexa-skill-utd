{
  "nbformat": 4,
  "nbformat_minor": 0,
  "metadata": {
    "colab": {
      "name": "hackutd19Querying.ipynb",
      "version": "0.3.2",
      "provenance": [],
      "collapsed_sections": []
    },
    "kernelspec": {
      "name": "python3",
      "display_name": "Python 3"
    }
  },
  "cells": [
    {
      "metadata": {
        "id": "J3OqL1myIY8w",
        "colab_type": "code",
        "colab": {}
      },
      "cell_type": "code",
      "source": [
        "import pandas as pd\n",
        "import numpy as np"
      ],
      "execution_count": 0,
      "outputs": []
    },
    {
      "metadata": {
        "id": "IN0_PNSYIku_",
        "colab_type": "code",
        "colab": {}
      },
      "cell_type": "code",
      "source": [
        "df = pd.read_csv(\"coursebook.csv\",parse_dates = [\"StartTime\", \"EndTime\", \"StartDate\", \"EndDate\"])"
      ],
      "execution_count": 0,
      "outputs": []
    },
    {
      "metadata": {
        "id": "36VdXFGiTsvm",
        "colab_type": "code",
        "outputId": "893d856a-5ab5-4cd2-83b0-454e0fd72249",
        "colab": {
          "base_uri": "https://localhost:8080/",
          "height": 487
        }
      },
      "cell_type": "code",
      "source": [
        "df.head()"
      ],
      "execution_count": 0,
      "outputs": [
        {
          "output_type": "execute_result",
          "data": {
            "text/html": [
              "<div>\n",
              "<style scoped>\n",
              "    .dataframe tbody tr th:only-of-type {\n",
              "        vertical-align: middle;\n",
              "    }\n",
              "\n",
              "    .dataframe tbody tr th {\n",
              "        vertical-align: top;\n",
              "    }\n",
              "\n",
              "    .dataframe thead th {\n",
              "        text-align: right;\n",
              "    }\n",
              "</style>\n",
              "<table border=\"1\" class=\"dataframe\">\n",
              "  <thead>\n",
              "    <tr style=\"text-align: right;\">\n",
              "      <th></th>\n",
              "      <th>ID</th>\n",
              "      <th>CourseID</th>\n",
              "      <th>Term</th>\n",
              "      <th>TermYear</th>\n",
              "      <th>Status</th>\n",
              "      <th>Section</th>\n",
              "      <th>ClassLevel</th>\n",
              "      <th>ClassNumber</th>\n",
              "      <th>ClassTitle</th>\n",
              "      <th>CourseCredits</th>\n",
              "      <th>...</th>\n",
              "      <th>Consent</th>\n",
              "      <th>InstructionMode</th>\n",
              "      <th>ActivityType</th>\n",
              "      <th>Prerequisites</th>\n",
              "      <th>InstructorEmail</th>\n",
              "      <th>StartDate</th>\n",
              "      <th>EndDate</th>\n",
              "      <th>Available Seats</th>\n",
              "      <th>Waitlist</th>\n",
              "      <th>ClassSubLevel</th>\n",
              "    </tr>\n",
              "  </thead>\n",
              "  <tbody>\n",
              "    <tr>\n",
              "      <th>0</th>\n",
              "      <td>0</td>\n",
              "      <td>cs1134</td>\n",
              "      <td>spring</td>\n",
              "      <td>2019</td>\n",
              "      <td>closed</td>\n",
              "      <td>101</td>\n",
              "      <td>undergraduate</td>\n",
              "      <td>24048</td>\n",
              "      <td>Computer Science Laboratory</td>\n",
              "      <td>1</td>\n",
              "      <td>...</td>\n",
              "      <td>n</td>\n",
              "      <td>regular</td>\n",
              "      <td>laboratory</td>\n",
              "      <td>NaN</td>\n",
              "      <td>kld054000@utdallas.edu</td>\n",
              "      <td>2019-01-14</td>\n",
              "      <td>2019-05-03</td>\n",
              "      <td>0</td>\n",
              "      <td>0</td>\n",
              "      <td>freshman</td>\n",
              "    </tr>\n",
              "    <tr>\n",
              "      <th>1</th>\n",
              "      <td>1</td>\n",
              "      <td>cs1134</td>\n",
              "      <td>spring</td>\n",
              "      <td>2019</td>\n",
              "      <td>open</td>\n",
              "      <td>102</td>\n",
              "      <td>undergraduate</td>\n",
              "      <td>24092</td>\n",
              "      <td>Computer Science Laboratory</td>\n",
              "      <td>1</td>\n",
              "      <td>...</td>\n",
              "      <td>n</td>\n",
              "      <td>regular</td>\n",
              "      <td>laboratory</td>\n",
              "      <td>S 1334.002. Credit cannot be received for both...</td>\n",
              "      <td>kld054000@utdallas.edu</td>\n",
              "      <td>2019-01-14</td>\n",
              "      <td>2019-05-03</td>\n",
              "      <td>19</td>\n",
              "      <td>0</td>\n",
              "      <td>freshman</td>\n",
              "    </tr>\n",
              "    <tr>\n",
              "      <th>2</th>\n",
              "      <td>2</td>\n",
              "      <td>cs1136</td>\n",
              "      <td>spring</td>\n",
              "      <td>2019</td>\n",
              "      <td>open</td>\n",
              "      <td>101</td>\n",
              "      <td>undergraduate</td>\n",
              "      <td>23179</td>\n",
              "      <td>Computer Science Laboratory</td>\n",
              "      <td>1</td>\n",
              "      <td>...</td>\n",
              "      <td>n</td>\n",
              "      <td>regular</td>\n",
              "      <td>laboratory</td>\n",
              "      <td>CS 1336.001</td>\n",
              "      <td>dgv130030@utdallas.edu</td>\n",
              "      <td>2019-01-14</td>\n",
              "      <td>2019-05-03</td>\n",
              "      <td>16</td>\n",
              "      <td>0</td>\n",
              "      <td>freshman</td>\n",
              "    </tr>\n",
              "    <tr>\n",
              "      <th>3</th>\n",
              "      <td>3</td>\n",
              "      <td>cs1136</td>\n",
              "      <td>spring</td>\n",
              "      <td>2019</td>\n",
              "      <td>open</td>\n",
              "      <td>102</td>\n",
              "      <td>undergraduate</td>\n",
              "      <td>23180</td>\n",
              "      <td>Computer Science Laboratory</td>\n",
              "      <td>1</td>\n",
              "      <td>...</td>\n",
              "      <td>n</td>\n",
              "      <td>regular</td>\n",
              "      <td>laboratory</td>\n",
              "      <td>S 1336.002. Check class notes to make sure you...</td>\n",
              "      <td>dgv130030@utdallas.edu</td>\n",
              "      <td>2019-01-14</td>\n",
              "      <td>2019-05-03</td>\n",
              "      <td>25</td>\n",
              "      <td>0</td>\n",
              "      <td>freshman</td>\n",
              "    </tr>\n",
              "    <tr>\n",
              "      <th>4</th>\n",
              "      <td>4</td>\n",
              "      <td>cs1136</td>\n",
              "      <td>spring</td>\n",
              "      <td>2019</td>\n",
              "      <td>open</td>\n",
              "      <td>103</td>\n",
              "      <td>undergraduate</td>\n",
              "      <td>28052</td>\n",
              "      <td>Computer Science Laboratory</td>\n",
              "      <td>1</td>\n",
              "      <td>...</td>\n",
              "      <td>n</td>\n",
              "      <td>regular</td>\n",
              "      <td>laboratory</td>\n",
              "      <td>S 1336.003. Check class notes to make sure you...</td>\n",
              "      <td>dgv130030@utdallas.edu</td>\n",
              "      <td>2019-01-14</td>\n",
              "      <td>2019-05-03</td>\n",
              "      <td>4</td>\n",
              "      <td>0</td>\n",
              "      <td>freshman</td>\n",
              "    </tr>\n",
              "  </tbody>\n",
              "</table>\n",
              "<p>5 rows × 25 columns</p>\n",
              "</div>"
            ],
            "text/plain": [
              "   ID CourseID    Term  TermYear  Status Section     ClassLevel  ClassNumber  \\\n",
              "0   0   cs1134  spring      2019  closed     101  undergraduate        24048   \n",
              "1   1   cs1134  spring      2019    open     102  undergraduate        24092   \n",
              "2   2   cs1136  spring      2019    open     101  undergraduate        23179   \n",
              "3   3   cs1136  spring      2019    open     102  undergraduate        23180   \n",
              "4   4   cs1136  spring      2019    open     103  undergraduate        28052   \n",
              "\n",
              "                    ClassTitle CourseCredits      ...      Consent  \\\n",
              "0  Computer Science Laboratory             1      ...            n   \n",
              "1  Computer Science Laboratory             1      ...            n   \n",
              "2  Computer Science Laboratory             1      ...            n   \n",
              "3  Computer Science Laboratory             1      ...            n   \n",
              "4  Computer Science Laboratory             1      ...            n   \n",
              "\n",
              "  InstructionMode ActivityType  \\\n",
              "0         regular   laboratory   \n",
              "1         regular   laboratory   \n",
              "2         regular   laboratory   \n",
              "3         regular   laboratory   \n",
              "4         regular   laboratory   \n",
              "\n",
              "                                       Prerequisites         InstructorEmail  \\\n",
              "0                                                NaN  kld054000@utdallas.edu   \n",
              "1  S 1334.002. Credit cannot be received for both...  kld054000@utdallas.edu   \n",
              "2                                        CS 1336.001  dgv130030@utdallas.edu   \n",
              "3  S 1336.002. Check class notes to make sure you...  dgv130030@utdallas.edu   \n",
              "4  S 1336.003. Check class notes to make sure you...  dgv130030@utdallas.edu   \n",
              "\n",
              "   StartDate    EndDate Available Seats Waitlist ClassSubLevel  \n",
              "0 2019-01-14 2019-05-03               0        0      freshman  \n",
              "1 2019-01-14 2019-05-03              19        0      freshman  \n",
              "2 2019-01-14 2019-05-03              16        0      freshman  \n",
              "3 2019-01-14 2019-05-03              25        0      freshman  \n",
              "4 2019-01-14 2019-05-03               4        0      freshman  \n",
              "\n",
              "[5 rows x 25 columns]"
            ]
          },
          "metadata": {
            "tags": []
          },
          "execution_count": 334
        }
      ]
    },
    {
      "metadata": {
        "id": "ctcGkjm61Hn5",
        "colab_type": "code",
        "colab": {}
      },
      "cell_type": "code",
      "source": [
        ""
      ],
      "execution_count": 0,
      "outputs": []
    },
    {
      "metadata": {
        "id": "TzydO_VJ2bNJ",
        "colab_type": "code",
        "colab": {}
      },
      "cell_type": "code",
      "source": [
        ""
      ],
      "execution_count": 0,
      "outputs": []
    },
    {
      "metadata": {
        "id": "EF2p5Gh-qZuf",
        "colab_type": "code",
        "colab": {}
      },
      "cell_type": "code",
      "source": [
        "def isStringAvailable(string):\n",
        "  return string!=None and len(string)!=0"
      ],
      "execution_count": 0,
      "outputs": []
    },
    {
      "metadata": {
        "id": "DhGS0MOAUh0P",
        "colab_type": "code",
        "outputId": "b0400211-a6a5-4e6f-8e2a-7f0d78f1fdb6",
        "colab": {
          "base_uri": "https://localhost:8080/",
          "height": 55
        }
      },
      "cell_type": "code",
      "source": [
        "#CourseOfferedSemesterIntent\n",
        "term = \"Spring\"\n",
        "termYear=\"2019\"\n",
        "result = None\n",
        "if(isStringAvailable(term) and isStringAvailable(termYear)):\n",
        "  result = df[(df['Term'].str.lower() == term.lower()) & (df['TermYear'] == int(termYear))]\n",
        "result = result[\"ClassTitle\"].tolist()\n",
        "speech = \"There are \" + str(len(set(result))) + \" courses offered in \" + term + \" \"+ termYear\n",
        "','.join(set(result))"
      ],
      "execution_count": 0,
      "outputs": [
        {
          "output_type": "execute_result",
          "data": {
            "text/plain": [
              "'Digital Systems Laboratory,Advanced Programming Languages,Computer Graphics,Professional Responsibility in Computer Science and Software Engineering,Automata Theory,C C  Programming in a UNIX Environment,Compiler Design,Discrete Structures,Modeling and Simulation,Web Programming Languages,Advanced Computer Networks,Programming Fundamentals,Software Engineering,Computer Science II for Non-majors,Special Topics in Computer Science - Machine Learning in Cyber Sec,Special Topics in Computer Science - Exp Research in Info Assurance,Discrete Mathematics for Computing II,Database Systems,Data and Applications Security,Computer and Network Security,Software Testing  Validation and Verification,Special Topics in Computer Science - Sfs Seminar,Computer Vision,Special Topics in Computer Science - Gen Purpose Gpu (gpgpu) Comp,Digital Logic and Computer Design,Advanced Algorithm Design and Analysis,Organization of Programming Languages,Introduction to Computer Vision,Network Security,Performance of Computer Systems and Networks,Big Data Management and Analytics,Object-Oriented Analysis and Design,Software Engineering - Honors,Human Computer Interactions II,Organization of Programming Languages - Honors,Human Computer Interactions I,Introduction to Machine Learning,Artificial Intelligence - Honors,Introduction to Programming,Special Topics in Computer Science - Internet of Things,Computer Science I,Theory of Computation,Data Structures and Introduction to Algorithmic Analysis,Undergraduate Research in Computer Science - Independent Research,Machine Learning,Automata Theory - Honors,Computer Science Laboratory,Probability and Statistics in Computer Science and Software Engineering,Special Topics in Computer Science - Developing/securing the Cloou,Digital Forensics,Algorithmic Aspects of Telecommunication Networks,Operating Systems Concepts,Independent Study in Computer Science,Discrete Mathematics for Computing II - Honors,Computer Architecture,Semantic Web,Discrete Mathematics for Computing I,Special Topics in Computer Science - Advcd Topics in Virtualization,Statistical Methods in AI and Machine Learning,Natural Language Processing,Introduction to Programming for Biomedical Engineers,Human Computer Interactions,Special Topics in Computer Science - Convolutional Neural Networks,Object-Oriented Programming Systems,Computer Science Project,Special Topics in Computer Science - Fundamental of Mobile Apps Dev,Computer Graphics for Artists and Designers,Computer Networks,Special Topics in Computer Science - R for Data Scientists,Computer Science II,Advanced Operating Systems,Real-Time Systems,Database Design,Virtual Reality,Networking Laboratory,Algorithm Analysis and Data Structures,Computational Logic,Numerical Analysis,Statistical Methods for Data Science,Digital Systems Laboratory - Honors,Artificial Intelligence,Special Topics in Computer Science - Theory of Social Computing,Introduction to Big Data Management and Analytics for non CS-Majors,Information Retrieval,Information Security,Computer Architecture - CV Honors,Distributed Computing,Advanced Requirements Engineering,Programming Fundamentals for Non-Majors,Special Topics in Computer Science - Cluster Computing,Special Topics in Computer Science - Program Analysis and Applic,Design and Analysis of Computer Algorithms,Computer Science I for Non-majors,Special Topics in Computer Science - Algorithmic Game Theory,Digital Logic and Computer Design - Honors,Special Topics in Computer Science - Machine Lrning Engr/scientists'"
            ]
          },
          "metadata": {
            "tags": []
          },
          "execution_count": 263
        }
      ]
    },
    {
      "metadata": {
        "id": "QOnNnQU9Vq9B",
        "colab_type": "code",
        "outputId": "0acff056-7f17-49f1-9492-546c70368059",
        "colab": {
          "base_uri": "https://localhost:8080/",
          "height": 195
        }
      },
      "cell_type": "code",
      "source": [
        "#CourseBookDayIntent\n",
        "result = None\n",
        "day = \"weekday\"\n",
        "weekday = [\"monday\",\"tuesday\",\"wednesday\",\"thursday\",\"friday\"]\n",
        "weekend = [\"saturday\",\"sunday\"]\n",
        "if(day.lower() == 'weekday'):\n",
        "  result = df[df['Days'].str.lower().str.contains(\"monday\") | df['Days'].str.lower().str.contains(\"tuesday\") | df['Days'].str.lower().str.contains(\"wednesday\")\n",
        "            | df['Days'].str.lower().str.contains(\"thursday\") | df['Days'].str.lower().str.contains(\"friday\")]\n",
        "elif(day.lower() == 'weekend'):\n",
        "  result = df[df['Days'].str.lower().str.contains(\"saturday\") | df['Days'].str.lower().str.contains(\"sunday\")]\n",
        "else:\n",
        "  result = df[df['Days'].str.lower().str.contains(day.lower())]\n",
        "result"
      ],
      "execution_count": 0,
      "outputs": [
        {
          "output_type": "execute_result",
          "data": {
            "text/html": [
              "<div>\n",
              "<style scoped>\n",
              "    .dataframe tbody tr th:only-of-type {\n",
              "        vertical-align: middle;\n",
              "    }\n",
              "\n",
              "    .dataframe tbody tr th {\n",
              "        vertical-align: top;\n",
              "    }\n",
              "\n",
              "    .dataframe thead th {\n",
              "        text-align: right;\n",
              "    }\n",
              "</style>\n",
              "<table border=\"1\" class=\"dataframe\">\n",
              "  <thead>\n",
              "    <tr style=\"text-align: right;\">\n",
              "      <th></th>\n",
              "      <th>Term</th>\n",
              "      <th>TermYear</th>\n",
              "      <th>Status</th>\n",
              "      <th>Section</th>\n",
              "      <th>ClassLevel</th>\n",
              "      <th>ClassNumber</th>\n",
              "      <th>ClassTitle</th>\n",
              "      <th>CourseCredits</th>\n",
              "      <th>Instructor</th>\n",
              "      <th>Days</th>\n",
              "      <th>...</th>\n",
              "      <th>EndTime</th>\n",
              "      <th>Location</th>\n",
              "      <th>Consent</th>\n",
              "      <th>InstructionMode</th>\n",
              "      <th>ActivityType</th>\n",
              "      <th>Prerequisites</th>\n",
              "      <th>InstructorEmail</th>\n",
              "      <th>StartDate</th>\n",
              "      <th>EndDate</th>\n",
              "      <th>Available Seats</th>\n",
              "    </tr>\n",
              "  </thead>\n",
              "  <tbody>\n",
              "    <tr>\n",
              "      <th>0</th>\n",
              "      <td>Spring</td>\n",
              "      <td>2019</td>\n",
              "      <td>open</td>\n",
              "      <td>501</td>\n",
              "      <td>graduate</td>\n",
              "      <td>24334</td>\n",
              "      <td>Statistical Methods for Data Science</td>\n",
              "      <td>3</td>\n",
              "      <td>Cuneyt Akcora</td>\n",
              "      <td>monday &amp; wednesday</td>\n",
              "      <td>...</td>\n",
              "      <td>1900-01-01 18:45:00</td>\n",
              "      <td>ecss 2.412</td>\n",
              "      <td>n</td>\n",
              "      <td>Regular</td>\n",
              "      <td>lecture</td>\n",
              "      <td>CS 3341 or SE 3341 or STAT 3341 or equivalent.</td>\n",
              "      <td>cxa123230@utdallas.edu</td>\n",
              "      <td>2019-01-14</td>\n",
              "      <td>2019-05-03</td>\n",
              "      <td>3</td>\n",
              "    </tr>\n",
              "  </tbody>\n",
              "</table>\n",
              "<p>1 rows × 21 columns</p>\n",
              "</div>"
            ],
            "text/plain": [
              "     Term TermYear Status Section ClassLevel ClassNumber  \\\n",
              "0  Spring     2019   open     501   graduate       24334   \n",
              "\n",
              "                             ClassTitle CourseCredits     Instructor  \\\n",
              "0  Statistical Methods for Data Science             3  Cuneyt Akcora   \n",
              "\n",
              "                 Days       ...                   EndTime    Location Consent  \\\n",
              "0  monday & wednesday       ...       1900-01-01 18:45:00  ecss 2.412       n   \n",
              "\n",
              "  InstructionMode ActivityType  \\\n",
              "0         Regular      lecture   \n",
              "\n",
              "                                    Prerequisites         InstructorEmail  \\\n",
              "0  CS 3341 or SE 3341 or STAT 3341 or equivalent.  cxa123230@utdallas.edu   \n",
              "\n",
              "   StartDate    EndDate Available Seats  \n",
              "0 2019-01-14 2019-05-03               3  \n",
              "\n",
              "[1 rows x 21 columns]"
            ]
          },
          "metadata": {
            "tags": []
          },
          "execution_count": 224
        }
      ]
    },
    {
      "metadata": {
        "id": "aB75CgTcXnU_",
        "colab_type": "code",
        "outputId": "89366a79-92c8-477d-def1-35f9d6ddd2b7",
        "colab": {
          "base_uri": "https://localhost:8080/",
          "height": 195
        }
      },
      "cell_type": "code",
      "source": [
        "#CourseCreditIntent\n",
        "credits = 3\n",
        "df[df[\"CourseCredits\"]==str(credits)]"
      ],
      "execution_count": 0,
      "outputs": [
        {
          "output_type": "execute_result",
          "data": {
            "text/html": [
              "<div>\n",
              "<style scoped>\n",
              "    .dataframe tbody tr th:only-of-type {\n",
              "        vertical-align: middle;\n",
              "    }\n",
              "\n",
              "    .dataframe tbody tr th {\n",
              "        vertical-align: top;\n",
              "    }\n",
              "\n",
              "    .dataframe thead th {\n",
              "        text-align: right;\n",
              "    }\n",
              "</style>\n",
              "<table border=\"1\" class=\"dataframe\">\n",
              "  <thead>\n",
              "    <tr style=\"text-align: right;\">\n",
              "      <th></th>\n",
              "      <th>Term</th>\n",
              "      <th>TermYear</th>\n",
              "      <th>Status</th>\n",
              "      <th>Section</th>\n",
              "      <th>ClassLevel</th>\n",
              "      <th>ClassNumber</th>\n",
              "      <th>ClassTitle</th>\n",
              "      <th>CourseCredits</th>\n",
              "      <th>Instructor</th>\n",
              "      <th>Days</th>\n",
              "      <th>...</th>\n",
              "      <th>EndTime</th>\n",
              "      <th>Location</th>\n",
              "      <th>Consent</th>\n",
              "      <th>InstructionMode</th>\n",
              "      <th>ActivityType</th>\n",
              "      <th>Prerequisites</th>\n",
              "      <th>InstructorEmail</th>\n",
              "      <th>StartDate</th>\n",
              "      <th>EndDate</th>\n",
              "      <th>Available Seats</th>\n",
              "    </tr>\n",
              "  </thead>\n",
              "  <tbody>\n",
              "    <tr>\n",
              "      <th>0</th>\n",
              "      <td>Spring</td>\n",
              "      <td>2019</td>\n",
              "      <td>open</td>\n",
              "      <td>501</td>\n",
              "      <td>graduate</td>\n",
              "      <td>24334</td>\n",
              "      <td>Statistical Methods for Data Science</td>\n",
              "      <td>3</td>\n",
              "      <td>Cuneyt Akcora</td>\n",
              "      <td>monday &amp; wednesday</td>\n",
              "      <td>...</td>\n",
              "      <td>1900-01-01 18:45:00</td>\n",
              "      <td>ecss 2.412</td>\n",
              "      <td>n</td>\n",
              "      <td>Regular</td>\n",
              "      <td>lecture</td>\n",
              "      <td>CS 3341 or SE 3341 or STAT 3341 or equivalent.</td>\n",
              "      <td>cxa123230@utdallas.edu</td>\n",
              "      <td>2019-01-14</td>\n",
              "      <td>2019-05-03</td>\n",
              "      <td>3</td>\n",
              "    </tr>\n",
              "  </tbody>\n",
              "</table>\n",
              "<p>1 rows × 21 columns</p>\n",
              "</div>"
            ],
            "text/plain": [
              "     Term TermYear Status Section ClassLevel ClassNumber  \\\n",
              "0  Spring     2019   open     501   graduate       24334   \n",
              "\n",
              "                             ClassTitle CourseCredits     Instructor  \\\n",
              "0  Statistical Methods for Data Science             3  Cuneyt Akcora   \n",
              "\n",
              "                 Days       ...                   EndTime    Location Consent  \\\n",
              "0  monday & wednesday       ...       1900-01-01 18:45:00  ecss 2.412       n   \n",
              "\n",
              "  InstructionMode ActivityType  \\\n",
              "0         Regular      lecture   \n",
              "\n",
              "                                    Prerequisites         InstructorEmail  \\\n",
              "0  CS 3341 or SE 3341 or STAT 3341 or equivalent.  cxa123230@utdallas.edu   \n",
              "\n",
              "   StartDate    EndDate Available Seats  \n",
              "0 2019-01-14 2019-05-03               3  \n",
              "\n",
              "[1 rows x 21 columns]"
            ]
          },
          "metadata": {
            "tags": []
          },
          "execution_count": 209
        }
      ]
    },
    {
      "metadata": {
        "id": "Ti2gJSjLg4So",
        "colab_type": "code",
        "outputId": "8dd50e8d-6c1c-42e9-e1a3-885b1cd82680",
        "colab": {
          "base_uri": "https://localhost:8080/",
          "height": 195
        }
      },
      "cell_type": "code",
      "source": [
        "#InstructionMethodIntent\n",
        "result = None\n",
        "instructionMode = \"regular\"\n",
        "if(isStringAvailable(instructionMode)):\n",
        "  result = df[df[\"InstructionMode\"].str.lower()==instructionMode]\n",
        "result"
      ],
      "execution_count": 0,
      "outputs": [
        {
          "output_type": "execute_result",
          "data": {
            "text/html": [
              "<div>\n",
              "<style scoped>\n",
              "    .dataframe tbody tr th:only-of-type {\n",
              "        vertical-align: middle;\n",
              "    }\n",
              "\n",
              "    .dataframe tbody tr th {\n",
              "        vertical-align: top;\n",
              "    }\n",
              "\n",
              "    .dataframe thead th {\n",
              "        text-align: right;\n",
              "    }\n",
              "</style>\n",
              "<table border=\"1\" class=\"dataframe\">\n",
              "  <thead>\n",
              "    <tr style=\"text-align: right;\">\n",
              "      <th></th>\n",
              "      <th>Term</th>\n",
              "      <th>TermYear</th>\n",
              "      <th>Status</th>\n",
              "      <th>Section</th>\n",
              "      <th>ClassLevel</th>\n",
              "      <th>ClassNumber</th>\n",
              "      <th>ClassTitle</th>\n",
              "      <th>CourseCredits</th>\n",
              "      <th>Instructor</th>\n",
              "      <th>Days</th>\n",
              "      <th>...</th>\n",
              "      <th>EndTime</th>\n",
              "      <th>Location</th>\n",
              "      <th>Consent</th>\n",
              "      <th>InstructionMode</th>\n",
              "      <th>ActivityType</th>\n",
              "      <th>Prerequisites</th>\n",
              "      <th>InstructorEmail</th>\n",
              "      <th>StartDate</th>\n",
              "      <th>EndDate</th>\n",
              "      <th>Available Seats</th>\n",
              "    </tr>\n",
              "  </thead>\n",
              "  <tbody>\n",
              "    <tr>\n",
              "      <th>0</th>\n",
              "      <td>Spring</td>\n",
              "      <td>2019</td>\n",
              "      <td>open</td>\n",
              "      <td>501</td>\n",
              "      <td>graduate</td>\n",
              "      <td>24334</td>\n",
              "      <td>Statistical Methods for Data Science</td>\n",
              "      <td>3</td>\n",
              "      <td>Cuneyt Akcora</td>\n",
              "      <td>monday &amp; wednesday</td>\n",
              "      <td>...</td>\n",
              "      <td>1900-01-01 18:45:00</td>\n",
              "      <td>ecss 2.412</td>\n",
              "      <td>n</td>\n",
              "      <td>Regular</td>\n",
              "      <td>lecture</td>\n",
              "      <td>CS 3341 or SE 3341 or STAT 3341 or equivalent.</td>\n",
              "      <td>cxa123230@utdallas.edu</td>\n",
              "      <td>2019-01-14</td>\n",
              "      <td>2019-05-03</td>\n",
              "      <td>3</td>\n",
              "    </tr>\n",
              "  </tbody>\n",
              "</table>\n",
              "<p>1 rows × 21 columns</p>\n",
              "</div>"
            ],
            "text/plain": [
              "     Term TermYear Status Section ClassLevel ClassNumber  \\\n",
              "0  Spring     2019   open     501   graduate       24334   \n",
              "\n",
              "                             ClassTitle CourseCredits     Instructor  \\\n",
              "0  Statistical Methods for Data Science             3  Cuneyt Akcora   \n",
              "\n",
              "                 Days       ...                   EndTime    Location Consent  \\\n",
              "0  monday & wednesday       ...       1900-01-01 18:45:00  ecss 2.412       n   \n",
              "\n",
              "  InstructionMode ActivityType  \\\n",
              "0         Regular      lecture   \n",
              "\n",
              "                                    Prerequisites         InstructorEmail  \\\n",
              "0  CS 3341 or SE 3341 or STAT 3341 or equivalent.  cxa123230@utdallas.edu   \n",
              "\n",
              "   StartDate    EndDate Available Seats  \n",
              "0 2019-01-14 2019-05-03               3  \n",
              "\n",
              "[1 rows x 21 columns]"
            ]
          },
          "metadata": {
            "tags": []
          },
          "execution_count": 211
        }
      ]
    },
    {
      "metadata": {
        "id": "-k8cVY8AkOUi",
        "colab_type": "code",
        "outputId": "159f1310-349a-4ca0-91f0-54464307b874",
        "colab": {
          "base_uri": "https://localhost:8080/",
          "height": 195
        }
      },
      "cell_type": "code",
      "source": [
        "#CourseNameIntent\n",
        "courseName = \"stat\"\n",
        "termAndYear = \"\"\n",
        "result = None\n",
        "if(termAndYear==None or len(termAndYear)==0):\n",
        "  result = df[df[\"ClassTitle\"].str.lower().str.contains(courseName.lower())]\n",
        "else:\n",
        "  term = termAndYear.split(\" \")[0]\n",
        "  termYear = termAndYear.split(\" \")[1]\n",
        "  result = df[(df[\"ClassTitle\"].str.lower().str.contains(courseName.lower())) &(df['Term'].str.lower() == term.lower()) & (df['TermYear'] == termYear)]\n",
        "result\n"
      ],
      "execution_count": 0,
      "outputs": [
        {
          "output_type": "execute_result",
          "data": {
            "text/html": [
              "<div>\n",
              "<style scoped>\n",
              "    .dataframe tbody tr th:only-of-type {\n",
              "        vertical-align: middle;\n",
              "    }\n",
              "\n",
              "    .dataframe tbody tr th {\n",
              "        vertical-align: top;\n",
              "    }\n",
              "\n",
              "    .dataframe thead th {\n",
              "        text-align: right;\n",
              "    }\n",
              "</style>\n",
              "<table border=\"1\" class=\"dataframe\">\n",
              "  <thead>\n",
              "    <tr style=\"text-align: right;\">\n",
              "      <th></th>\n",
              "      <th>Term</th>\n",
              "      <th>TermYear</th>\n",
              "      <th>Status</th>\n",
              "      <th>Section</th>\n",
              "      <th>ClassLevel</th>\n",
              "      <th>ClassNumber</th>\n",
              "      <th>ClassTitle</th>\n",
              "      <th>CourseCredits</th>\n",
              "      <th>Instructor</th>\n",
              "      <th>Days</th>\n",
              "      <th>...</th>\n",
              "      <th>EndTime</th>\n",
              "      <th>Location</th>\n",
              "      <th>Consent</th>\n",
              "      <th>InstructionMode</th>\n",
              "      <th>ActivityType</th>\n",
              "      <th>Prerequisites</th>\n",
              "      <th>InstructorEmail</th>\n",
              "      <th>StartDate</th>\n",
              "      <th>EndDate</th>\n",
              "      <th>Available Seats</th>\n",
              "    </tr>\n",
              "  </thead>\n",
              "  <tbody>\n",
              "    <tr>\n",
              "      <th>0</th>\n",
              "      <td>Spring</td>\n",
              "      <td>2019</td>\n",
              "      <td>open</td>\n",
              "      <td>501</td>\n",
              "      <td>graduate</td>\n",
              "      <td>24334</td>\n",
              "      <td>Statistical Methods for Data Science</td>\n",
              "      <td>3</td>\n",
              "      <td>Cuneyt Akcora</td>\n",
              "      <td>monday &amp; wednesday</td>\n",
              "      <td>...</td>\n",
              "      <td>1900-01-01 18:45:00</td>\n",
              "      <td>ecss 2.412</td>\n",
              "      <td>n</td>\n",
              "      <td>Regular</td>\n",
              "      <td>lecture</td>\n",
              "      <td>CS 3341 or SE 3341 or STAT 3341 or equivalent.</td>\n",
              "      <td>cxa123230@utdallas.edu</td>\n",
              "      <td>2019-01-14</td>\n",
              "      <td>2019-05-03</td>\n",
              "      <td>3</td>\n",
              "    </tr>\n",
              "  </tbody>\n",
              "</table>\n",
              "<p>1 rows × 21 columns</p>\n",
              "</div>"
            ],
            "text/plain": [
              "     Term TermYear Status Section ClassLevel ClassNumber  \\\n",
              "0  Spring     2019   open     501   graduate       24334   \n",
              "\n",
              "                             ClassTitle CourseCredits     Instructor  \\\n",
              "0  Statistical Methods for Data Science             3  Cuneyt Akcora   \n",
              "\n",
              "                 Days       ...                   EndTime    Location Consent  \\\n",
              "0  monday & wednesday       ...       1900-01-01 18:45:00  ecss 2.412       n   \n",
              "\n",
              "  InstructionMode ActivityType  \\\n",
              "0         Regular      lecture   \n",
              "\n",
              "                                    Prerequisites         InstructorEmail  \\\n",
              "0  CS 3341 or SE 3341 or STAT 3341 or equivalent.  cxa123230@utdallas.edu   \n",
              "\n",
              "   StartDate    EndDate Available Seats  \n",
              "0 2019-01-14 2019-05-03               3  \n",
              "\n",
              "[1 rows x 21 columns]"
            ]
          },
          "metadata": {
            "tags": []
          },
          "execution_count": 213
        }
      ]
    },
    {
      "metadata": {
        "id": "RZvIswhmoZ0g",
        "colab_type": "code",
        "outputId": "9e5c244e-73e0-4c3f-9c5c-838bec2095ec",
        "colab": {
          "base_uri": "https://localhost:8080/",
          "height": 195
        }
      },
      "cell_type": "code",
      "source": [
        "#ProfessorIntent\n",
        "instructorName = \"Cuneyt\"\n",
        "result = None\n",
        "if(instructorName!=None or len(instructorName)!=0):\n",
        "  result = df[df[\"Instructor\"].str.lower().str.contains(instructorName.lower())]\n",
        "result"
      ],
      "execution_count": 0,
      "outputs": [
        {
          "output_type": "execute_result",
          "data": {
            "text/html": [
              "<div>\n",
              "<style scoped>\n",
              "    .dataframe tbody tr th:only-of-type {\n",
              "        vertical-align: middle;\n",
              "    }\n",
              "\n",
              "    .dataframe tbody tr th {\n",
              "        vertical-align: top;\n",
              "    }\n",
              "\n",
              "    .dataframe thead th {\n",
              "        text-align: right;\n",
              "    }\n",
              "</style>\n",
              "<table border=\"1\" class=\"dataframe\">\n",
              "  <thead>\n",
              "    <tr style=\"text-align: right;\">\n",
              "      <th></th>\n",
              "      <th>Term</th>\n",
              "      <th>TermYear</th>\n",
              "      <th>Status</th>\n",
              "      <th>Section</th>\n",
              "      <th>ClassLevel</th>\n",
              "      <th>ClassNumber</th>\n",
              "      <th>ClassTitle</th>\n",
              "      <th>CourseCredits</th>\n",
              "      <th>Instructor</th>\n",
              "      <th>Days</th>\n",
              "      <th>...</th>\n",
              "      <th>EndTime</th>\n",
              "      <th>Location</th>\n",
              "      <th>Consent</th>\n",
              "      <th>InstructionMode</th>\n",
              "      <th>ActivityType</th>\n",
              "      <th>Prerequisites</th>\n",
              "      <th>InstructorEmail</th>\n",
              "      <th>StartDate</th>\n",
              "      <th>EndDate</th>\n",
              "      <th>Available Seats</th>\n",
              "    </tr>\n",
              "  </thead>\n",
              "  <tbody>\n",
              "    <tr>\n",
              "      <th>0</th>\n",
              "      <td>Spring</td>\n",
              "      <td>2019</td>\n",
              "      <td>open</td>\n",
              "      <td>501</td>\n",
              "      <td>graduate</td>\n",
              "      <td>24334</td>\n",
              "      <td>Statistical Methods for Data Science</td>\n",
              "      <td>3</td>\n",
              "      <td>Cuneyt Akcora</td>\n",
              "      <td>monday &amp; wednesday</td>\n",
              "      <td>...</td>\n",
              "      <td>1900-01-01 18:45:00</td>\n",
              "      <td>ecss 2.412</td>\n",
              "      <td>n</td>\n",
              "      <td>Regular</td>\n",
              "      <td>lecture</td>\n",
              "      <td>CS 3341 or SE 3341 or STAT 3341 or equivalent.</td>\n",
              "      <td>cxa123230@utdallas.edu</td>\n",
              "      <td>2019-01-14</td>\n",
              "      <td>2019-05-03</td>\n",
              "      <td>3</td>\n",
              "    </tr>\n",
              "  </tbody>\n",
              "</table>\n",
              "<p>1 rows × 21 columns</p>\n",
              "</div>"
            ],
            "text/plain": [
              "     Term TermYear Status Section ClassLevel ClassNumber  \\\n",
              "0  Spring     2019   open     501   graduate       24334   \n",
              "\n",
              "                             ClassTitle CourseCredits     Instructor  \\\n",
              "0  Statistical Methods for Data Science             3  Cuneyt Akcora   \n",
              "\n",
              "                 Days       ...                   EndTime    Location Consent  \\\n",
              "0  monday & wednesday       ...       1900-01-01 18:45:00  ecss 2.412       n   \n",
              "\n",
              "  InstructionMode ActivityType  \\\n",
              "0         Regular      lecture   \n",
              "\n",
              "                                    Prerequisites         InstructorEmail  \\\n",
              "0  CS 3341 or SE 3341 or STAT 3341 or equivalent.  cxa123230@utdallas.edu   \n",
              "\n",
              "   StartDate    EndDate Available Seats  \n",
              "0 2019-01-14 2019-05-03               3  \n",
              "\n",
              "[1 rows x 21 columns]"
            ]
          },
          "metadata": {
            "tags": []
          },
          "execution_count": 215
        }
      ]
    },
    {
      "metadata": {
        "id": "R_ZLKC-Xpins",
        "colab_type": "code",
        "outputId": "b7450209-41d7-4336-98df-675e956b8a32",
        "colab": {
          "base_uri": "https://localhost:8080/",
          "height": 195
        }
      },
      "cell_type": "code",
      "source": [
        "#CourseStatusIntent\n",
        "courseName = \"\"\n",
        "courseStatus = \"\"\n",
        "termAndYear = \"Spring 2019\"\n",
        "if(isStringAvailable(termAndYear)):\n",
        "  term = termAndYear.split(\" \")[0]\n",
        "  termYear = termAndYear.split(\" \")[1]\n",
        "\n",
        "result = None\n",
        "\n",
        "if(isStringAvailable(courseStatus) and isStringAvailable(termAndYear) and isStringAvailable(courseName)):\n",
        "  result = df[(df[\"ClassTitle\"].str.lower().str.contains(courseName.lower()))\n",
        "            &(df[\"Status\"].str.lower().str.contains(courseStatus.lower()))\n",
        "           &(df['Term'].str.lower() == term.lower()) & (df['TermYear'] == termYear)]\n",
        "elif(isStringAvailable(courseStatus) and isStringAvailable(termAndYear)):\n",
        "  result = df[(df[\"Status\"].str.lower().str.contains(courseStatus.lower()))\n",
        "           &(df['Term'].str.lower() == term.lower()) & (df['TermYear'] == termYear)]\n",
        "elif(isStringAvailable(courseName) and isStringAvailable(termAndYear)):\n",
        "  result = df[(df[\"ClassTitle\"].str.lower().str.contains(courseName.lower()))\n",
        "           &(df['Term'].str.lower() == term.lower()) & (df['TermYear'] == termYear)]\n",
        "elif(isStringAvailable(courseName) and isStringAvailable(courseStatus)):\n",
        "  result = df[(df[\"ClassTitle\"].str.lower().str.contains(courseName.lower()))\n",
        "           &(df['Status'].str.lower() == courseStatus)]\n",
        "elif(isStringAvailable(courseName)):\n",
        "  result = df[df[\"ClassTitle\"].str.lower().str.contains(courseName.lower())]\n",
        "elif(isStringAvailable(courseName)):\n",
        "  result = df[df[\"Status\"].str.lower().str.contains(courseStatus.lower())]\n",
        "else:\n",
        "  result = df[(df['Term'].str.lower() == term.lower()) & (df['TermYear'] == termYear)]\n",
        "result"
      ],
      "execution_count": 0,
      "outputs": [
        {
          "output_type": "execute_result",
          "data": {
            "text/html": [
              "<div>\n",
              "<style scoped>\n",
              "    .dataframe tbody tr th:only-of-type {\n",
              "        vertical-align: middle;\n",
              "    }\n",
              "\n",
              "    .dataframe tbody tr th {\n",
              "        vertical-align: top;\n",
              "    }\n",
              "\n",
              "    .dataframe thead th {\n",
              "        text-align: right;\n",
              "    }\n",
              "</style>\n",
              "<table border=\"1\" class=\"dataframe\">\n",
              "  <thead>\n",
              "    <tr style=\"text-align: right;\">\n",
              "      <th></th>\n",
              "      <th>Term</th>\n",
              "      <th>TermYear</th>\n",
              "      <th>Status</th>\n",
              "      <th>Section</th>\n",
              "      <th>ClassLevel</th>\n",
              "      <th>ClassNumber</th>\n",
              "      <th>ClassTitle</th>\n",
              "      <th>CourseCredits</th>\n",
              "      <th>Instructor</th>\n",
              "      <th>Days</th>\n",
              "      <th>...</th>\n",
              "      <th>EndTime</th>\n",
              "      <th>Location</th>\n",
              "      <th>Consent</th>\n",
              "      <th>InstructionMode</th>\n",
              "      <th>ActivityType</th>\n",
              "      <th>Prerequisites</th>\n",
              "      <th>InstructorEmail</th>\n",
              "      <th>StartDate</th>\n",
              "      <th>EndDate</th>\n",
              "      <th>Available Seats</th>\n",
              "    </tr>\n",
              "  </thead>\n",
              "  <tbody>\n",
              "    <tr>\n",
              "      <th>0</th>\n",
              "      <td>Spring</td>\n",
              "      <td>2019</td>\n",
              "      <td>open</td>\n",
              "      <td>501</td>\n",
              "      <td>graduate</td>\n",
              "      <td>24334</td>\n",
              "      <td>Statistical Methods for Data Science</td>\n",
              "      <td>3</td>\n",
              "      <td>Cuneyt Akcora</td>\n",
              "      <td>monday &amp; wednesday</td>\n",
              "      <td>...</td>\n",
              "      <td>1900-01-01 18:45:00</td>\n",
              "      <td>ecss 2.412</td>\n",
              "      <td>n</td>\n",
              "      <td>Regular</td>\n",
              "      <td>lecture</td>\n",
              "      <td>CS 3341 or SE 3341 or STAT 3341 or equivalent.</td>\n",
              "      <td>cxa123230@utdallas.edu</td>\n",
              "      <td>2019-01-14</td>\n",
              "      <td>2019-05-03</td>\n",
              "      <td>3</td>\n",
              "    </tr>\n",
              "  </tbody>\n",
              "</table>\n",
              "<p>1 rows × 21 columns</p>\n",
              "</div>"
            ],
            "text/plain": [
              "     Term TermYear Status Section ClassLevel ClassNumber  \\\n",
              "0  Spring     2019   open     501   graduate       24334   \n",
              "\n",
              "                             ClassTitle CourseCredits     Instructor  \\\n",
              "0  Statistical Methods for Data Science             3  Cuneyt Akcora   \n",
              "\n",
              "                 Days       ...                   EndTime    Location Consent  \\\n",
              "0  monday & wednesday       ...       1900-01-01 18:45:00  ecss 2.412       n   \n",
              "\n",
              "  InstructionMode ActivityType  \\\n",
              "0         Regular      lecture   \n",
              "\n",
              "                                    Prerequisites         InstructorEmail  \\\n",
              "0  CS 3341 or SE 3341 or STAT 3341 or equivalent.  cxa123230@utdallas.edu   \n",
              "\n",
              "   StartDate    EndDate Available Seats  \n",
              "0 2019-01-14 2019-05-03               3  \n",
              "\n",
              "[1 rows x 21 columns]"
            ]
          },
          "metadata": {
            "tags": []
          },
          "execution_count": 216
        }
      ]
    },
    {
      "metadata": {
        "id": "uzKavhXErdSH",
        "colab_type": "code",
        "outputId": "d6fda0a4-77a0-4946-8b2b-7dd63c6a27d5",
        "colab": {
          "base_uri": "https://localhost:8080/",
          "height": 52
        }
      },
      "cell_type": "code",
      "source": [
        "#CoursePrerequisiteIntent\n",
        "columnName = \"Prerequisites\"\n",
        "courseName = \"stat\"\n",
        "result = None\n",
        "if isStringAvailable(courseName):\n",
        "  result = df[df[\"ClassTitle\"].str.lower().str.contains(courseName.lower())][columnName]\n",
        "result\n"
      ],
      "execution_count": 0,
      "outputs": [
        {
          "output_type": "execute_result",
          "data": {
            "text/plain": [
              "0    CS 3341 or SE 3341 or STAT 3341 or equivalent.\n",
              "Name: Prerequisites, dtype: object"
            ]
          },
          "metadata": {
            "tags": []
          },
          "execution_count": 217
        }
      ]
    },
    {
      "metadata": {
        "id": "uh3hUq6s6hz4",
        "colab_type": "code",
        "outputId": "d1691f35-647f-4f6d-cdbe-faa1d4d5c437",
        "colab": {
          "base_uri": "https://localhost:8080/",
          "height": 195
        }
      },
      "cell_type": "code",
      "source": [
        "#ActivityType Intent\n",
        "activityType = \"lecture\"\n",
        "termAndYear = \"\"\n",
        "  \n",
        "result = None\n",
        "if isStringAvailable(activityType) and isStringAvailable(termAndYear):\n",
        "  term = termAndYear.split(\" \")[0]\n",
        "  termYear = termAndYear.split(\" \")[1]\n",
        "  result = df[(df[\"ActivityType\"].str.lower().str.contains(activityType.lower())) &(df['Term'].str.lower() == term.lower()) & (df['TermYear'] == termYear)]\n",
        "elif isStringAvailable(termAndYear):\n",
        "  term = termAndYear.split(\" \")[0]\n",
        "  termYear = termAndYear.split(\" \")[1]\n",
        "  result = df[(df['Term'].str.lower() == term.lower()) & (df['TermYear'] == termYear)]\n",
        "else:\n",
        "  result = df[df[\"ActivityType\"].str.lower().str.contains(activityType.lower())]\n",
        "result"
      ],
      "execution_count": 0,
      "outputs": [
        {
          "output_type": "execute_result",
          "data": {
            "text/html": [
              "<div>\n",
              "<style scoped>\n",
              "    .dataframe tbody tr th:only-of-type {\n",
              "        vertical-align: middle;\n",
              "    }\n",
              "\n",
              "    .dataframe tbody tr th {\n",
              "        vertical-align: top;\n",
              "    }\n",
              "\n",
              "    .dataframe thead th {\n",
              "        text-align: right;\n",
              "    }\n",
              "</style>\n",
              "<table border=\"1\" class=\"dataframe\">\n",
              "  <thead>\n",
              "    <tr style=\"text-align: right;\">\n",
              "      <th></th>\n",
              "      <th>Term</th>\n",
              "      <th>TermYear</th>\n",
              "      <th>Status</th>\n",
              "      <th>Section</th>\n",
              "      <th>ClassLevel</th>\n",
              "      <th>ClassNumber</th>\n",
              "      <th>ClassTitle</th>\n",
              "      <th>CourseCredits</th>\n",
              "      <th>Instructor</th>\n",
              "      <th>Days</th>\n",
              "      <th>...</th>\n",
              "      <th>EndTime</th>\n",
              "      <th>Location</th>\n",
              "      <th>Consent</th>\n",
              "      <th>InstructionMode</th>\n",
              "      <th>ActivityType</th>\n",
              "      <th>Prerequisites</th>\n",
              "      <th>InstructorEmail</th>\n",
              "      <th>StartDate</th>\n",
              "      <th>EndDate</th>\n",
              "      <th>Available Seats</th>\n",
              "    </tr>\n",
              "  </thead>\n",
              "  <tbody>\n",
              "    <tr>\n",
              "      <th>0</th>\n",
              "      <td>Spring</td>\n",
              "      <td>2019</td>\n",
              "      <td>open</td>\n",
              "      <td>501</td>\n",
              "      <td>graduate</td>\n",
              "      <td>24334</td>\n",
              "      <td>Statistical Methods for Data Science</td>\n",
              "      <td>3</td>\n",
              "      <td>Cuneyt Akcora</td>\n",
              "      <td>monday &amp; wednesday</td>\n",
              "      <td>...</td>\n",
              "      <td>1900-01-01 18:45:00</td>\n",
              "      <td>ecss 2.412</td>\n",
              "      <td>n</td>\n",
              "      <td>Regular</td>\n",
              "      <td>lecture</td>\n",
              "      <td>CS 3341 or SE 3341 or STAT 3341 or equivalent.</td>\n",
              "      <td>cxa123230@utdallas.edu</td>\n",
              "      <td>2019-01-14</td>\n",
              "      <td>2019-05-03</td>\n",
              "      <td>3</td>\n",
              "    </tr>\n",
              "  </tbody>\n",
              "</table>\n",
              "<p>1 rows × 21 columns</p>\n",
              "</div>"
            ],
            "text/plain": [
              "     Term TermYear Status Section ClassLevel ClassNumber  \\\n",
              "0  Spring     2019   open     501   graduate       24334   \n",
              "\n",
              "                             ClassTitle CourseCredits     Instructor  \\\n",
              "0  Statistical Methods for Data Science             3  Cuneyt Akcora   \n",
              "\n",
              "                 Days       ...                   EndTime    Location Consent  \\\n",
              "0  monday & wednesday       ...       1900-01-01 18:45:00  ecss 2.412       n   \n",
              "\n",
              "  InstructionMode ActivityType  \\\n",
              "0         Regular      lecture   \n",
              "\n",
              "                                    Prerequisites         InstructorEmail  \\\n",
              "0  CS 3341 or SE 3341 or STAT 3341 or equivalent.  cxa123230@utdallas.edu   \n",
              "\n",
              "   StartDate    EndDate Available Seats  \n",
              "0 2019-01-14 2019-05-03               3  \n",
              "\n",
              "[1 rows x 21 columns]"
            ]
          },
          "metadata": {
            "tags": []
          },
          "execution_count": 220
        }
      ]
    },
    {
      "metadata": {
        "id": "1egFU2717tdN",
        "colab_type": "code",
        "colab": {}
      },
      "cell_type": "code",
      "source": [
        "#TODO\n",
        "#CourseEnrollmentIntent\n",
        "courseName = \"NLP\"\n",
        "result = None\n",
        "if isStringAvailable(courseName):"
      ],
      "execution_count": 0,
      "outputs": []
    },
    {
      "metadata": {
        "id": "CtjMzIJh_pls",
        "colab_type": "code",
        "colab": {}
      },
      "cell_type": "code",
      "source": [
        "#TODO\n",
        "#StartDateAndEndDateIntent\n",
        "courseName = \"NLP\"\n",
        "result = None\n",
        "if isStringAvailable(courseName):"
      ],
      "execution_count": 0,
      "outputs": []
    },
    {
      "metadata": {
        "id": "PMu95dD9_0NL",
        "colab_type": "code",
        "colab": {}
      },
      "cell_type": "code",
      "source": [
        "#TODO\n",
        "#WaitingNumberIntent\n",
        "courseName = \"NLP\"\n",
        "result = None\n",
        "if isStringAvailable(courseName):"
      ],
      "execution_count": 0,
      "outputs": []
    },
    {
      "metadata": {
        "id": "bo410JvM_5ap",
        "colab_type": "code",
        "colab": {}
      },
      "cell_type": "code",
      "source": [
        "#TODO\n",
        "#CourseLevelIntent\n",
        "courseName = \"NLP\"\n",
        "result = None\n",
        "if isStringAvailable(courseName):"
      ],
      "execution_count": 0,
      "outputs": []
    },
    {
      "metadata": {
        "id": "nrTFrqhD_9Rr",
        "colab_type": "code",
        "colab": {}
      },
      "cell_type": "code",
      "source": [
        "#TODO\n",
        "#CourseBookTimingIntent\n",
        "courseName = \"NLP\"\n",
        "result = None\n",
        "if isStringAvailable(courseName):\n",
        "  df['classTitle']"
      ],
      "execution_count": 0,
      "outputs": []
    },
    {
      "metadata": {
        "id": "vLqkJet5xot6",
        "colab_type": "code",
        "outputId": "6491dbd4-5b65-497a-95fa-a7cbb2e8e052",
        "colab": {
          "base_uri": "https://localhost:8080/",
          "height": 72
        }
      },
      "cell_type": "code",
      "source": [
        "courseName = \"Machine Learning\"\n",
        "if(isStringAvailable(courseName)):\n",
        "  print(\"in\")\n",
        "  result = df[df[\"ClassTitle\"].str.lower().str.contains(courseName.lower())]\n",
        "  speech = \" \"\n",
        "  if(len(result)>1):\n",
        "    speech = \"There are \" + str(len(result)) + \" \"+ courseName + \" courses available.\"\n",
        "    speech = speech + \" Top result is \"\n",
        "  topResult = result.to_dict(\"records\")[0]\t\t\t\n",
        "  speech = speech +  topResult[\"ClassTitle\"] + \" offered by \" + topResult[\"Instructor\"] + \" as \" + topResult[\"InstructionMode\"] + \" \" + topResult[\"ActivityType\"] + \" class on \"+ topResult[\"Days\"] + \" from \" + topResult[\"StartTime\"].strftime(\"%I %M %p\") + \" to \" + topResult[\"EndTime\"].strftime(\"%I %M %p\") + \" starting from \" + topResult[\"StartDate\"].strftime(\"%b %d, %Y\") + \" to \"+ topResult[\"EndDate\"].strftime(\"%b %d, %Y\")\n",
        "speech = speech.replace(\"&\",\"and\")\n",
        "print(speech)"
      ],
      "execution_count": 0,
      "outputs": [
        {
          "output_type": "stream",
          "text": [
            "in\n",
            "There are 10 Machine Learning courses available. Top result is Introduction to Machine Learning offered by Gity Karami as regular lecture class on tuesday and thursday from 02 30 PM to 03 45 PM starting from Jan 14, 2019 to May 03, 2019\n"
          ],
          "name": "stdout"
        }
      ]
    },
    {
      "metadata": {
        "id": "DWYqtbBgxzJa",
        "colab_type": "code",
        "outputId": "c699c17b-3498-4fb1-8fa0-7eba82a0314f",
        "colab": {
          "base_uri": "https://localhost:8080/",
          "height": 35
        }
      },
      "cell_type": "code",
      "source": [
        "if(isStringAvailable(courseName)):\n",
        "  result = df[df[\"ClassTitle\"].str.lower().str.contains(courseName.lower())]\t\t\t\n",
        "  if(len(result)>0):\n",
        "    result = set(result[\"Instructor\"].tolist())\n",
        "        \n",
        "\",\".join(result)"
      ],
      "execution_count": 0,
      "outputs": [
        {
          "output_type": "execute_result",
          "data": {
            "text/plain": [
              "'Sriraam Natarajan,Gautam Kunapuli,Karen Mazidi,Anjum Chida,Anurag Nagar,Ziaullah Khan,Nicholas Ruozzi,Wei Yang,Gity Karami'"
            ]
          },
          "metadata": {
            "tags": []
          },
          "execution_count": 329
        }
      ]
    },
    {
      "metadata": {
        "id": "u1vdd4AvF6ai",
        "colab_type": "code",
        "outputId": "2d655269-71a1-4138-9669-a8a544def6ae",
        "colab": {
          "base_uri": "https://localhost:8080/",
          "height": 35
        }
      },
      "cell_type": "code",
      "source": [
        "#TODO\n",
        "#CourseEnrollmentIntent\n",
        "course = \"cs1134.102\"\n",
        "\n",
        "result = None\n",
        "speech = \"course is not available\"\n",
        "if isStringAvailable(courseName):\n",
        "  courseId = course.split(\".\")[0]\n",
        "  courseSection = course.split(\".\")[1]\n",
        "  speech = \"You cannot enroll as course is closed\"\n",
        "  result = df[df[\"CourseID\"].str.contains(courseId, case=False) & df[\"Section\"].str.contains(courseSection, case=False) & df[\"Status\"].str.contains(\"open\", case=False)]\n",
        "  \n",
        "  if len(result) > 0:\n",
        "    speech = \"You cannot enroll as you require department or professor's consent\"   \n",
        "    consent = result[\"Consent\"].str.contains('y', case=False).iloc[0]\n",
        "    if(consent==False):\n",
        "      prereq = result[\"Prerequisites\"]\n",
        "      speech = \"\"\n",
        "      if(prereq is None):\n",
        "        speech = \"You have prereqs for this course. Please make sure you complete them before enrolling\"\n",
        "      else:\n",
        "        speech = \"You dont have any prereqs for this course. You are free to enroll.\"\n",
        "        availableSeats = result[\"Available Seats\"].iloc[0]\n",
        "        if availableSeats < 5:\n",
        "          speech = speech + \" Seats are fast filling. There are less than 5 seats available\"\n",
        "        else:\n",
        "          speech = speech + \" You have \" + str(availableSeats) + \" seats left\"\n",
        "speech\n",
        "      \n",
        "     \n",
        "    "
      ],
      "execution_count": 0,
      "outputs": [
        {
          "output_type": "execute_result",
          "data": {
            "text/plain": [
              "'You dont have any prereqs for this course. You are free to enroll. You have 19 seats left'"
            ]
          },
          "metadata": {
            "tags": []
          },
          "execution_count": 371
        }
      ]
    },
    {
      "metadata": {
        "id": "JsecpjxJWg9Q",
        "colab_type": "code",
        "colab": {}
      },
      "cell_type": "code",
      "source": [
        ""
      ],
      "execution_count": 0,
      "outputs": []
    }
  ]
}